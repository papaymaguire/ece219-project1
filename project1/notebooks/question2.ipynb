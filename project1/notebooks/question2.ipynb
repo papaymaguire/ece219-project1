{
 "cells": [
  {
   "cell_type": "code",
   "execution_count": 1,
   "metadata": {},
   "outputs": [
    {
     "name": "stderr",
     "output_type": "stream",
     "text": [
      "2024-04-10 15:20:46 -0700 - dagster - DEBUG - system - Loading file from: /home/maguire/ucla/ece219/project1/project1/../data/train using PickledObjectFilesystemIOManager...\n",
      "2024-04-10 15:20:46 -0700 - dagster - DEBUG - system - Loading file from: /home/maguire/ucla/ece219/project1/project1/../data/test using PickledObjectFilesystemIOManager...\n"
     ]
    }
   ],
   "source": [
    "import pandas as pd\n",
    "import numpy as np\n",
    "np.random.seed(42)\n",
    "import random\n",
    "random.seed(42)\n",
    "from project1 import defs\n",
    "\n",
    "train: pd.DataFrame = defs.load_asset_value(\"train\")\n",
    "test: pd.DataFrame = defs.load_asset_value(\"test\")"
   ]
  },
  {
   "cell_type": "code",
   "execution_count": 2,
   "metadata": {},
   "outputs": [
    {
     "name": "stdout",
     "output_type": "stream",
     "text": [
      "Training shape: \n",
      "(2780, 8)\n",
      "Testing shape: \n",
      "(696, 8)\n"
     ]
    }
   ],
   "source": [
    "print(\"Training shape: \")\n",
    "print(train.shape)\n",
    "print(\"Testing shape: \")\n",
    "print(test.shape)"
   ]
  }
 ],
 "metadata": {
  "kernelspec": {
   "display_name": "venv",
   "language": "python",
   "name": "python3"
  },
  "language_info": {
   "codemirror_mode": {
    "name": "ipython",
    "version": 3
   },
   "file_extension": ".py",
   "mimetype": "text/x-python",
   "name": "python",
   "nbconvert_exporter": "python",
   "pygments_lexer": "ipython3",
   "version": "3.10.12"
  }
 },
 "nbformat": 4,
 "nbformat_minor": 2
}
